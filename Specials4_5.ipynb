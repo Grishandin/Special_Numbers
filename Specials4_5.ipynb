{
  "nbformat": 4,
  "nbformat_minor": 0,
  "metadata": {
    "colab": {
      "name": "Specials4-5.ipynb",
      "provenance": [],
      "authorship_tag": "ABX9TyNPvoIs3ke0gFqkwI1IfncX",
      "include_colab_link": true
    },
    "kernelspec": {
      "name": "python3",
      "display_name": "Python 3"
    }
  },
  "cells": [
    {
      "cell_type": "markdown",
      "metadata": {
        "id": "view-in-github",
        "colab_type": "text"
      },
      "source": [
        "<a href=\"https://colab.research.google.com/github/Rofling/Special_Numbers/blob/main/Specials4_5.ipynb\" target=\"_parent\"><img src=\"https://colab.research.google.com/assets/colab-badge.svg\" alt=\"Open In Colab\"/></a>"
      ]
    },
    {
      "cell_type": "markdown",
      "metadata": {
        "id": "Bs72z4Z-eXEa"
      },
      "source": [
        "# **Задача**\r\n",
        "Все числа, состоящие только из цифр 4 и 5 (4, 5, 44, 5454, 5555, 444445), являются особенными.\r\n",
        "На вход программы подается число n <= 1kk.\r\n",
        "Разложить введенное число на сумму из наименьшего количества особых чисел, если это возможно. В обратном случае выдать -1.\r\n",
        "\r\n",
        "Примеры:\r\n",
        "\r\n",
        "\r\n",
        "---\r\n",
        "\r\n",
        "\r\n",
        "Ввод: 49\r\n",
        "\r\n",
        "Вывод: 45 + 4, 2\r\n",
        "\r\n",
        "\r\n",
        "---\r\n",
        "\r\n",
        "\r\n",
        "Ввод: 512\r\n",
        "\r\n",
        "Вывод: 455 + 45 + 4 + 4 +4\r\n",
        "\r\n",
        "\r\n",
        "---\r\n",
        "\r\n",
        "\r\n",
        "\r\n",
        "Ввод: 4444\r\n",
        "\r\n",
        "Вывод: 1\r\n",
        "\r\n",
        "\r\n",
        "---\r\n",
        "\r\n",
        "\r\n",
        "\r\n",
        "Ввод: 7\r\n",
        "\r\n",
        "Вывод: -1"
      ]
    },
    {
      "cell_type": "markdown",
      "metadata": {
        "id": "_uQooUtzvRBJ"
      },
      "source": [
        "## **Получение списка особых чисел до 1млн с помощью 2сс**"
      ]
    },
    {
      "cell_type": "code",
      "metadata": {
        "colab": {
          "base_uri": "https://localhost:8080/"
        },
        "id": "5AqufrvAZp12",
        "outputId": "911e56ae-92dc-40f9-f919-05bd0d5fb1e6"
      },
      "source": [
        "import numpy as np\r\n",
        "\r\n",
        "l=[]\r\n",
        "l1=[]\r\n",
        "twos=[2,4,8,16,32,64]\r\n",
        "ws=[2,6,14,30,62]\r\n",
        "w=1\r\n",
        "\r\n",
        "for i in range(max(twos)):\r\n",
        "  l.append(i)\r\n",
        "\r\n",
        "for i in twos:\r\n",
        "  l1.extend(l[:i])\r\n",
        "\r\n",
        "for i in range(len(l1)):\r\n",
        "  l1[i]=np.binary_repr(l1[i], width=w)\r\n",
        "  if i+1 in ws:\r\n",
        "    w+=1\r\n",
        "  l1[i]=l1[i].replace('0', '4')\r\n",
        "  l1[i]=l1[i].replace('1', '5')\r\n",
        "  l1[i]=int(l1[i])\r\n",
        "\r\n",
        "print(l1)"
      ],
      "execution_count": 66,
      "outputs": [
        {
          "output_type": "stream",
          "text": [
            "[4, 5, 44, 45, 54, 55, 444, 445, 454, 455, 544, 545, 554, 555, 4444, 4445, 4454, 4455, 4544, 4545, 4554, 4555, 5444, 5445, 5454, 5455, 5544, 5545, 5554, 5555, 44444, 44445, 44454, 44455, 44544, 44545, 44554, 44555, 45444, 45445, 45454, 45455, 45544, 45545, 45554, 45555, 54444, 54445, 54454, 54455, 54544, 54545, 54554, 54555, 55444, 55445, 55454, 55455, 55544, 55545, 55554, 55555, 444444, 444445, 444454, 444455, 444544, 444545, 444554, 444555, 445444, 445445, 445454, 445455, 445544, 445545, 445554, 445555, 454444, 454445, 454454, 454455, 454544, 454545, 454554, 454555, 455444, 455445, 455454, 455455, 455544, 455545, 455554, 455555, 544444, 544445, 544454, 544455, 544544, 544545, 544554, 544555, 545444, 545445, 545454, 545455, 545544, 545545, 545554, 545555, 554444, 554445, 554454, 554455, 554544, 554545, 554554, 554555, 555444, 555445, 555454, 555455, 555544, 555545, 555554, 555555]\n"
          ],
          "name": "stdout"
        }
      ]
    },
    {
      "cell_type": "markdown",
      "metadata": {
        "id": "RWG1e_nOuxrM"
      },
      "source": [
        "## **Получение списка особых чисел до 1млн с помощью поразрядного сложения**"
      ]
    },
    {
      "cell_type": "code",
      "metadata": {
        "colab": {
          "base_uri": "https://localhost:8080/"
        },
        "id": "RZLHmOXivgQ2",
        "outputId": "65b44a87-ff17-45c5-b0a5-ced184992814"
      },
      "source": [
        "l2=[4,5]\r\n",
        "d=[2,6,14,30,62]\r\n",
        "temp1=0\r\n",
        "temp2=0\r\n",
        "index=0\r\n",
        "\r\n",
        "for i in range(62):\r\n",
        "  temp1=l2[i]+4*(10**(index+1))\r\n",
        "  temp2=l2[i]+5*(10**(index+1))\r\n",
        "  l2.append(temp1)\r\n",
        "  l2.append(temp2)\r\n",
        "  if i+1 in d:\r\n",
        "    index+=1\r\n",
        "    \r\n",
        "l2.sort()\r\n",
        "\r\n",
        "print(l2)"
      ],
      "execution_count": 67,
      "outputs": [
        {
          "output_type": "stream",
          "text": [
            "[4, 5, 44, 45, 54, 55, 444, 445, 454, 455, 544, 545, 554, 555, 4444, 4445, 4454, 4455, 4544, 4545, 4554, 4555, 5444, 5445, 5454, 5455, 5544, 5545, 5554, 5555, 44444, 44445, 44454, 44455, 44544, 44545, 44554, 44555, 45444, 45445, 45454, 45455, 45544, 45545, 45554, 45555, 54444, 54445, 54454, 54455, 54544, 54545, 54554, 54555, 55444, 55445, 55454, 55455, 55544, 55545, 55554, 55555, 444444, 444445, 444454, 444455, 444544, 444545, 444554, 444555, 445444, 445445, 445454, 445455, 445544, 445545, 445554, 445555, 454444, 454445, 454454, 454455, 454544, 454545, 454554, 454555, 455444, 455445, 455454, 455455, 455544, 455545, 455554, 455555, 544444, 544445, 544454, 544455, 544544, 544545, 544554, 544555, 545444, 545445, 545454, 545455, 545544, 545545, 545554, 545555, 554444, 554445, 554454, 554455, 554544, 554545, 554554, 554555, 555444, 555445, 555454, 555455, 555544, 555545, 555554, 555555]\n"
          ],
          "name": "stdout"
        }
      ]
    },
    {
      "cell_type": "markdown",
      "metadata": {
        "id": "UgP_sto7vk_E"
      },
      "source": [
        "## **Получение списка особых чисел до 1млн с помощью символов и списка списков (Санин)**"
      ]
    },
    {
      "cell_type": "code",
      "metadata": {
        "colab": {
          "base_uri": "https://localhost:8080/"
        },
        "id": "bLOD8AcYvuOA",
        "outputId": "2d0a2723-cf24-416c-e4ea-cc8082749605"
      },
      "source": [
        "all_gen = [['4','5']]\r\n",
        "for k in range(0,5):\r\n",
        "    next_gen = []\r\n",
        "    for i in all_gen[k]:\r\n",
        "        next_gen.append(i+'4')\r\n",
        "        next_gen.append(i+'5')\r\n",
        "    all_gen.append(next_gen)\r\n",
        "Nums = all_gen[0] + all_gen[1] + all_gen[2] + all_gen[3] + all_gen[4] + all_gen[5]\r\n",
        "Nums = list(map(lambda x: int(x), Nums))\r\n",
        "Nums.sort()\r\n",
        "\r\n",
        "print(Nums)\r\n",
        "print(len(Nums))"
      ],
      "execution_count": 68,
      "outputs": [
        {
          "output_type": "stream",
          "text": [
            "[4, 5, 44, 45, 54, 55, 444, 445, 454, 455, 544, 545, 554, 555, 4444, 4445, 4454, 4455, 4544, 4545, 4554, 4555, 5444, 5445, 5454, 5455, 5544, 5545, 5554, 5555, 44444, 44445, 44454, 44455, 44544, 44545, 44554, 44555, 45444, 45445, 45454, 45455, 45544, 45545, 45554, 45555, 54444, 54445, 54454, 54455, 54544, 54545, 54554, 54555, 55444, 55445, 55454, 55455, 55544, 55545, 55554, 55555, 444444, 444445, 444454, 444455, 444544, 444545, 444554, 444555, 445444, 445445, 445454, 445455, 445544, 445545, 445554, 445555, 454444, 454445, 454454, 454455, 454544, 454545, 454554, 454555, 455444, 455445, 455454, 455455, 455544, 455545, 455554, 455555, 544444, 544445, 544454, 544455, 544544, 544545, 544554, 544555, 545444, 545445, 545454, 545455, 545544, 545545, 545554, 545555, 554444, 554445, 554454, 554455, 554544, 554545, 554554, 554555, 555444, 555445, 555454, 555455, 555544, 555545, 555554, 555555]\n",
            "126\n"
          ],
          "name": "stdout"
        }
      ]
    },
    {
      "cell_type": "markdown",
      "metadata": {
        "id": "5xEgiOWVvxeE"
      },
      "source": [
        "## **Алгоритм разложения на сумму с помощью вычитания наибольшего меньшего из списка особых чисел**"
      ]
    },
    {
      "cell_type": "code",
      "metadata": {
        "colab": {
          "base_uri": "https://localhost:8080/"
        },
        "id": "sYws4ZzWv7xK",
        "outputId": "37192926-a4b8-46bb-bd50-c0f15be5c754"
      },
      "source": [
        "n=int(input())\r\n",
        "l3=[]\r\n",
        "\r\n",
        "def max_search(n, l1):\r\n",
        "  if n not in l1:\r\n",
        "    if n>=4:\r\n",
        "      i=0\r\n",
        "      i_max=0\r\n",
        "      while l1[i] <= n:\r\n",
        "        max=l1[i] \r\n",
        "        i_max=i\r\n",
        "        i+=1\r\n",
        "      l3.append(max)\r\n",
        "      l3.append(i_max)\r\n",
        "      if ((n-max) <= 4) and ((n-max)!=0):\r\n",
        "        max_search(n-max, l1[:i_max])\r\n",
        "      else:\r\n",
        "        max_search(n-l3[i_max-1], l1[:i_max-1])\r\n",
        "    else:\r\n",
        "      for i in range(len(l3)):\r\n",
        "        if i % 2 == 0:\r\n",
        "          print(l3[i], end=\"+\")\r\n",
        "  else:\r\n",
        "    print(1)\r\n",
        "\r\n",
        "max_search(n,l1)"
      ],
      "execution_count": null,
      "outputs": [
        {
          "output_type": "stream",
          "text": [
            "510\n",
            "1\n"
          ],
          "name": "stdout"
        }
      ]
    },
    {
      "cell_type": "code",
      "metadata": {
        "id": "QfqXDzUoHPtm"
      },
      "source": [
        "n=int(input())\r\n",
        "l3=[]\r\n",
        "\r\n",
        "def max_search(n, l1):\r\n",
        "  if n not in l1:\r\n",
        "    if n>=4:\r\n",
        "      i=0\r\n",
        "      while l1[i] <= n:\r\n",
        "        max=l1[i]\r\n",
        "        i+=1\r\n",
        "      l3.append(max)\r\n",
        "      if ((n-max) <= 4) and ((n-max)!=0):\r\n",
        "        max_search(n-l3[i-1], l1[:i-1])\r\n",
        "      else:\r\n",
        "        max_search(n-max, l1[:i])\r\n",
        "    else:\r\n",
        "      for i in range(len(l3)):\r\n",
        "        print(l3[i], end=\"+\")\r\n",
        "  else:\r\n",
        "    print(1)\r\n",
        "\r\n",
        "max_search(n,l1)"
      ],
      "execution_count": null,
      "outputs": []
    },
    {
      "cell_type": "markdown",
      "metadata": {
        "id": "3m5d4nCywDVg"
      },
      "source": [
        "## **Сравнение производительности алгоритмов создания списков особых чисел**"
      ]
    },
    {
      "cell_type": "code",
      "metadata": {
        "colab": {
          "base_uri": "https://localhost:8080/",
          "height": 725
        },
        "id": "36P0ZAPL4ZLx",
        "outputId": "bce83418-6a0b-4a71-806f-c88a0604139e"
      },
      "source": [
        "import numpy as np\r\n",
        "import time\r\n",
        "import matplotlib.pyplot as plt\r\n",
        "\r\n",
        "t1=[]\r\n",
        "t2=[]\r\n",
        "t3=[]\r\n",
        "\r\n",
        "for i in range(100000):\r\n",
        "  startTime1 = time.time()\r\n",
        "  l=[]\r\n",
        "  l1=[]\r\n",
        "  twos=[2,4,8,16,32,64]\r\n",
        "  ws=[2,6,14,30,62]\r\n",
        "  w=1\r\n",
        "  for i in range(max(twos)):\r\n",
        "    l.append(i)\r\n",
        "  for i in twos:\r\n",
        "    l1.extend(l[:i])\r\n",
        "  for i in range(len(l1)):\r\n",
        "    l1[i]=np.binary_repr(l1[i], width=w)\r\n",
        "    if i+1 in ws:\r\n",
        "      w+=1\r\n",
        "    l1[i]=l1[i].replace('0', '4')\r\n",
        "    l1[i]=l1[i].replace('1', '5')\r\n",
        "    l1[i]=int(l1[i])\r\n",
        "  endTime1 = time.time()\r\n",
        "  totalTime1 = endTime1 - startTime1\r\n",
        "  t1.append(totalTime1)\r\n",
        "\r\n",
        "  startTime2 = time.time()\r\n",
        "  l2=[4,5]\r\n",
        "  d=[2,6,14,30,62]\r\n",
        "  temp1=0\r\n",
        "  temp2=0\r\n",
        "  index=0\r\n",
        "  for i in range(62):\r\n",
        "    temp1=l2[i]+4*(10**(index+1))\r\n",
        "    temp2=l2[i]+5*(10**(index+1))\r\n",
        "    l2.append(temp1)\r\n",
        "    l2.append(temp2)\r\n",
        "    if i+1 in d:\r\n",
        "      index+=1\r\n",
        "  l2.sort()\r\n",
        "  endTime2 = time.time()\r\n",
        "  totalTime2 = endTime2 - startTime2\r\n",
        "  t2.append(totalTime2)\r\n",
        "\r\n",
        "  startTime3 = time.time()\r\n",
        "  all_gen = [['4','5']]\r\n",
        "  for k in range(0,5):\r\n",
        "      next_gen = []\r\n",
        "      for i in all_gen[k]:\r\n",
        "          next_gen.append(i+'4')\r\n",
        "          next_gen.append(i+'5')\r\n",
        "      all_gen.append(next_gen)\r\n",
        "  Nums = all_gen[0] + all_gen[1] + all_gen[2] + all_gen[3] + all_gen[4] + all_gen[5]\r\n",
        "  Nums = list(map(lambda x: int(x), Nums))\r\n",
        "  Nums.sort()\r\n",
        "  endTime3 = time.time()\r\n",
        "  totalTime3 = endTime3 - startTime3\r\n",
        "  t3.append(totalTime3)\r\n",
        "\r\n",
        "print(\"Mean time for alg 1= {:.9f}\".format(np.mean(t1)))\r\n",
        "print(\"Mean time for alg 2= {:.9f}\".format(np.mean(t2)))\r\n",
        "print(\"Mean time for alg 3= {:.9f}\".format(np.mean(t3)))\r\n",
        "print(\"3rd alg's better than 1st in {:.2f}\".format(np.mean(t1)/np.mean(t3)), 'times in average')\r\n",
        "print(\"2nd alg's better than 1st in {:.2f}\".format(np.mean(t1)/np.mean(t2)), 'times in average')\r\n",
        "print(\"3rd alg's better than 2nd in {:.2f}\".format(np.mean(t2)/np.mean(t3)), 'times in average')\r\n",
        "print()\r\n",
        "\r\n",
        "plt.figure(figsize=(20, 10))\r\n",
        "plt.plot(t1, 'b', t2, 'g', t3, 'r')\r\n",
        "plt.xlabel('N of iteration')\r\n",
        "plt.ylabel('Seconds')\r\n",
        "plt.show()"
      ],
      "execution_count": 137,
      "outputs": [
        {
          "output_type": "stream",
          "text": [
            "Mean time for alg 1= 0.000262795\n",
            "Mean time for alg 2= 0.000076326\n",
            "Mean time for alg 3= 0.000053521\n",
            "3rd alg's better than 1st in 4.91 times in average\n",
            "2nd alg's better than 1st in 3.44 times in average\n",
            "3rd alg's better than 2nd in 1.43 times in average\n",
            "\n"
          ],
          "name": "stdout"
        },
        {
          "output_type": "display_data",
          "data": {
            "image/png": "[encoded data removed]",
            "text/plain": [
              "<Figure size 1440x720 with 1 Axes>"
            ]
          },
          "metadata": {
            "tags": [],
            "needs_background": "light"
          }
        }
      ]
    },
    {
      "cell_type": "markdown",
      "metadata": {
        "id": "tbcVZl3fwJLj"
      },
      "source": [
        ""
      ]
    }
  ]
}